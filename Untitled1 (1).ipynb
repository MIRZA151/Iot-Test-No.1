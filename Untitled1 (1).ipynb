{
  "nbformat": 4,
  "nbformat_minor": 0,
  "metadata": {
    "colab": {
      "name": "Untitled1.ipynb",
      "provenance": []
    },
    "kernelspec": {
      "name": "python3",
      "display_name": "Python 3"
    },
    "language_info": {
      "name": "python"
    }
  },
  "cells": [
    {
      "cell_type": "code",
      "source": [
        "#Q1 \n",
        "start=int(input(\"Enter start of range: \"))\n",
        "end=int(input(\"Enter end of range: \"))\n",
        "odd_list= range(start,end+1)[start%1::2]\n",
        "for num in odd_list:\n",
        "  print(num,end = \" \")\n",
        "    \n",
        "\n",
        "\n"
      ],
      "metadata": {
        "colab": {
          "base_uri": "https://localhost:8080/"
        },
        "id": "oeSjZu2pgM-a",
        "outputId": "d64f1486-aa22-42db-bf04-c99b757b25da"
      },
      "execution_count": 38,
      "outputs": [
        {
          "output_type": "stream",
          "name": "stdout",
          "text": [
            "Enter start of range: 1\n",
            "Enter end of range: 99\n",
            "1 3 5 7 9 11 13 15 17 19 21 23 25 27 29 31 33 35 37 39 41 43 45 47 49 51 53 55 57 59 61 63 65 67 69 71 73 75 77 79 81 83 85 87 89 91 93 95 97 99 "
          ]
        }
      ]
    },
    {
      "cell_type": "code",
      "source": [
        "start=int(input(\"Enter start of range: \"))\n",
        "end=int(input(\"Enter end of range: \"))\n",
        "odd_list= range(start,end+1)[start%1::2]\n",
        "for num in odd_list:\n",
        "  print(num,end = \" \")\n",
        "    \n",
        "\n",
        "\n"
      ],
      "metadata": {
        "colab": {
          "base_uri": "https://localhost:8080/"
        },
        "outputId": "ce5a4dd1-d93f-4a79-dd06-8ca44a43e8ec",
        "id": "SCFsWVkZseXI"
      },
      "execution_count": null,
      "outputs": [
        {
          "output_type": "stream",
          "name": "stdout",
          "text": [
            "Enter start of range: 1\n",
            "Enter end of range: 50\n",
            "1 3 5 7 9 11 13 15 17 19 21 23 25 27 29 31 33 35 37 39 41 43 45 47 49 "
          ]
        }
      ]
    },
    {
      "cell_type": "code",
      "source": [
        "#Q2\n",
        "sum = 0\n",
        "odd_list=[1,3,5,7,9,11,13,15,17,19,21,23,25,27,29,31,33,35,37,39,41,43,45,47,49]\n",
        "for i in range(0,len(odd_list)):\n",
        "  sum= sum + odd_list[i]\n",
        "  print(\"sum of all odd_list: \",sum)\n"
      ],
      "metadata": {
        "colab": {
          "base_uri": "https://localhost:8080/"
        },
        "id": "QSZ6fSgWrPQL",
        "outputId": "097fee47-460e-4285-c20c-c4ac6a97fd0f"
      },
      "execution_count": 41,
      "outputs": [
        {
          "output_type": "stream",
          "name": "stdout",
          "text": [
            "sum of all odd_list:  1\n",
            "sum of all odd_list:  4\n",
            "sum of all odd_list:  9\n",
            "sum of all odd_list:  16\n",
            "sum of all odd_list:  25\n",
            "sum of all odd_list:  36\n",
            "sum of all odd_list:  49\n",
            "sum of all odd_list:  64\n",
            "sum of all odd_list:  81\n",
            "sum of all odd_list:  100\n",
            "sum of all odd_list:  121\n",
            "sum of all odd_list:  144\n",
            "sum of all odd_list:  169\n",
            "sum of all odd_list:  196\n",
            "sum of all odd_list:  225\n",
            "sum of all odd_list:  256\n",
            "sum of all odd_list:  289\n",
            "sum of all odd_list:  324\n",
            "sum of all odd_list:  361\n",
            "sum of all odd_list:  400\n",
            "sum of all odd_list:  441\n",
            "sum of all odd_list:  484\n",
            "sum of all odd_list:  529\n",
            "sum of all odd_list:  576\n",
            "sum of all odd_list:  625\n"
          ]
        }
      ]
    },
    {
      "cell_type": "code",
      "source": [
        "#Q3\n",
        "numbers=[1,2,3,4,5,6,7,8,9,10,11,12,13,14,15,16,17,18,19,20,21,22,23,24,25,26,27,28,29,30]\n",
        "numbers.reverse()\n",
        "print(numbers)"
      ],
      "metadata": {
        "colab": {
          "base_uri": "https://localhost:8080/"
        },
        "id": "-kYroBAco40b",
        "outputId": "1a93aa71-5904-4599-a9b3-b7a1b1cb1141"
      },
      "execution_count": 35,
      "outputs": [
        {
          "output_type": "stream",
          "name": "stdout",
          "text": [
            "[30, 29, 28, 27, 26, 25, 24, 23, 22, 21, 20, 19, 18, 17, 16, 15, 14, 13, 12, 11, 10, 9, 8, 7, 6, 5, 4, 3, 2, 1]\n"
          ]
        }
      ]
    },
    {
      "cell_type": "code",
      "source": [
        "#Q4\n",
        "numbers=[422,876,567,987,678,986]\n",
        "numbers.sort()\n",
        "print(numbers[-2::])\n",
        "\n"
      ],
      "metadata": {
        "colab": {
          "base_uri": "https://localhost:8080/"
        },
        "id": "vTl36PIotym9",
        "outputId": "16b2b43b-94d4-4ebf-fa2a-a58c4ae1aa6d"
      },
      "execution_count": 44,
      "outputs": [
        {
          "output_type": "stream",
          "name": "stdout",
          "text": [
            "[986, 987]\n"
          ]
        }
      ]
    },
    {
      "cell_type": "code",
      "source": [
        "#Q5\n",
        "numbers=[543,789,567,987,234,989]\n",
        "numbers.sort()\n",
        "print(numbers[-2:-1])"
      ],
      "metadata": {
        "colab": {
          "base_uri": "https://localhost:8080/"
        },
        "id": "uuXBolWSu8i0",
        "outputId": "80fb6218-dde2-4fc4-af41-5e0f805a4dec"
      },
      "execution_count": 50,
      "outputs": [
        {
          "output_type": "stream",
          "name": "stdout",
          "text": [
            "[987]\n"
          ]
        }
      ]
    },
    {
      "cell_type": "code",
      "source": [
        "#Q6\n",
        "sorted_numbers =sorted([234,345,111,125,356,350,670,345,656])\n",
        "print(\"Sorted in ascneding order: \",sorted_numbers)\n",
        "\n"
      ],
      "metadata": {
        "colab": {
          "base_uri": "https://localhost:8080/"
        },
        "id": "QDNg3TKGs_tE",
        "outputId": "1598a9fe-f3b7-4f13-aee9-19e7f34c1523"
      },
      "execution_count": 56,
      "outputs": [
        {
          "output_type": "stream",
          "name": "stdout",
          "text": [
            "Sorted in ascneding order:  [111, 125, 234, 345, 345, 350, 356, 656, 670]\n"
          ]
        }
      ]
    },
    {
      "cell_type": "code",
      "source": [
        "#Q7\n",
        "sorted_numbers = sorted([115,125,150,345,786,543,987,565,555,876], reverse=True) \n",
        "print(\"Sorted in descending order: \",sorted_numbers)"
      ],
      "metadata": {
        "colab": {
          "base_uri": "https://localhost:8080/"
        },
        "id": "NJhIzDAGxbgF",
        "outputId": "dfa7ec28-7657-4afb-a598-6f2ad64add1b"
      },
      "execution_count": 64,
      "outputs": [
        {
          "output_type": "stream",
          "name": "stdout",
          "text": [
            "Sorted in descending order:  [987, 876, 786, 565, 555, 543, 345, 150, 125, 115]\n"
          ]
        }
      ]
    },
    {
      "cell_type": "code",
      "source": [
        "#Q8\n",
        "characters=input(\"Enter String\")\n",
        "b=\" \"\n",
        "for i in string:\n",
        "  if i not in b:\n",
        "    b=b+i\n",
        "print(b)\n",
        " "
      ],
      "metadata": {
        "id": "ml8DQcZ2yevF"
      },
      "execution_count": null,
      "outputs": []
    },
    {
      "cell_type": "code",
      "source": [
        "#q9\n",
        "# taking user input\n",
        "ch = input(\"Enter a character: \")\n",
        "\n",
        "if(ch=='A' or ch=='a' or ch=='E' or ch =='e' or ch=='I'\n",
        " or ch=='i' or ch=='O' or ch=='o' or ch=='U' or ch=='u'):\n",
        "    print(ch, \"is a Vowel\")\n",
        "else:\n",
        "    print(ch, \"is a Consonant\")"
      ],
      "metadata": {
        "colab": {
          "base_uri": "https://localhost:8080/"
        },
        "id": "IUt-I6F04HYd",
        "outputId": "728c61b0-7753-4b70-c871-5d106077f626"
      },
      "execution_count": 86,
      "outputs": [
        {
          "output_type": "stream",
          "name": "stdout",
          "text": [
            "Enter a character: E\n",
            "E is a Vowel\n"
          ]
        }
      ]
    },
    {
      "cell_type": "code",
      "source": [
        "#q10\n",
        "factorial = 1\n",
        "if num < 0:\n",
        "   print(\"Sorry, factorial does not exist for negative numbers\")\n",
        "elif num == 0:\n",
        "   print(\"The factorial of 0 is 1\")\n",
        "else:\n",
        "   for i in range(1,num + 1):\n",
        "       factorial = factorial*i\n",
        "   print(\"The factorial of\",num,\"is\",factorial)"
      ],
      "metadata": {
        "colab": {
          "base_uri": "https://localhost:8080/"
        },
        "id": "vI5L4hSd6AC1",
        "outputId": "fa97cea3-b2cc-41bd-85a6-707d76428726"
      },
      "execution_count": 89,
      "outputs": [
        {
          "output_type": "stream",
          "name": "stdout",
          "text": [
            "The factorial of 99 is 933262154439441526816992388562667004907159682643816214685929638952175999932299156089414639761565182862536979208272237582511852109168640000000000000000000000\n"
          ]
        }
      ]
    }
  ]
}