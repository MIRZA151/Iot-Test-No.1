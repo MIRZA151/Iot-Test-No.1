{
  "nbformat": 4,
  "nbformat_minor": 0,
  "metadata": {
    "colab": {
      "name": "Python coding questions",
      "provenance": [],
      "authorship_tag": "ABX9TyODxDmC/WFvNBCJZ6iLunGR",
      "include_colab_link": true
    },
    "kernelspec": {
      "name": "python3",
      "display_name": "Python 3"
    },
    "language_info": {
      "name": "python"
    }
  },
  "cells": [
    {
      "cell_type": "markdown",
      "metadata": {
        "id": "view-in-github",
        "colab_type": "text"
      },
      "source": [
        "<a href=\"https://colab.research.google.com/github/MIRZA151/Iot-Test-No.1/blob/main/Python_coding_questions.ipynb\" target=\"_parent\"><img src=\"https://colab.research.google.com/assets/colab-badge.svg\" alt=\"Open In Colab\"/></a>"
      ]
    },
    {
      "cell_type": "code",
      "source": [
        "#Q1 \n",
        "numbers=7658456\n",
        "print(str(numbers)[::-1])"
      ],
      "metadata": {
        "colab": {
          "base_uri": "https://localhost:8080/"
        },
        "id": "MUwShJJiQaEA",
        "outputId": "ec6eede1-c989-4c41-fa8a-bc13c5f399b1"
      },
      "execution_count": null,
      "outputs": [
        {
          "output_type": "stream",
          "name": "stdout",
          "text": [
            "6548567\n"
          ]
        }
      ]
    },
    {
      "cell_type": "code",
      "source": [
        "#Q2\n",
        "a = []\n",
        "b = input('Enter Number')\n",
        "for i in b:\n",
        "  a.append(i)\n",
        "print(a)\n",
        "\n",
        "c=[]\n",
        "for j in range(len(a)):\n",
        "  c.append(int(a[j]))\n",
        "print(c)\n",
        "\n",
        "d=[]\n",
        "for k in range(len(c)):\n",
        "  d.append(c[k]**3)\n",
        "print(d)\n",
        "\n",
        "final = sum(d)\n",
        "print(str(final))\n",
        "\n",
        "c=int(b)\n",
        "if (final==c):\n",
        "  print(b,\"Is an armstrong number\")\n",
        "elif (final!=c):\n",
        "   print(b,\"Is not an armstrong number\")\n",
        "else:\n",
        "   print(b,\"Is wrong input\")\n",
        "\n",
        "\n",
        "  "
      ],
      "metadata": {
        "colab": {
          "base_uri": "https://localhost:8080/"
        },
        "id": "vKqP-hk2S7cU",
        "outputId": "0e7a9439-25aa-411f-c15a-74068c6c0df1"
      },
      "execution_count": null,
      "outputs": [
        {
          "output_type": "stream",
          "name": "stdout",
          "text": [
            "Enter Number25\n",
            "['2', '5']\n",
            "[2, 5]\n",
            "[8, 125]\n",
            "133\n",
            "25 Is not an armstrong number\n"
          ]
        }
      ]
    },
    {
      "cell_type": "code",
      "source": [
        "#Q3\n",
        "number = int(input(\"please give a number: \"))\n",
        "for i in range(2, number//2):\n",
        "    if number %i == 0:\n",
        "        temp=1\n",
        "        break\n",
        "        \n",
        "if temp == 1:\n",
        "    print(number ,\"is not prime number\")\n",
        "else:\n",
        "    print(number, \"is prime number\") \n",
        "    "
      ],
      "metadata": {
        "colab": {
          "base_uri": "https://localhost:8080/"
        },
        "id": "fna9EK1CWbf6",
        "outputId": "3bfbaf21-ad9d-429e-dc69-d48a48ddd9b8"
      },
      "execution_count": null,
      "outputs": [
        {
          "output_type": "stream",
          "name": "stdout",
          "text": [
            "please give a number: 25\n",
            "25 is not prime number\n"
          ]
        }
      ]
    },
    {
      "cell_type": "code",
      "source": [
        "#Q4\n",
        "first,second=0,1\n",
        "n = int(input(\"please give a number for fibonacci series : \"))\n",
        "print(\"fibonacci series are : \")\n",
        "for i in range(0,25):\n",
        "    if i<=1:\n",
        "        result=i\n",
        "    else:\n",
        "      result = first + second;\n",
        "      first = second;\n",
        "      second = result;\n",
        "    print(result)"
      ],
      "metadata": {
        "colab": {
          "base_uri": "https://localhost:8080/"
        },
        "id": "xiXTPbaRiSz4",
        "outputId": "0895199a-6a0e-4fed-d6bf-053271e54afd"
      },
      "execution_count": null,
      "outputs": [
        {
          "output_type": "stream",
          "name": "stdout",
          "text": [
            "please give a number for fibonacci series : 25\n",
            "fibonacci series are : \n",
            "0\n",
            "1\n",
            "1\n",
            "2\n",
            "3\n",
            "5\n",
            "8\n",
            "13\n",
            "21\n",
            "34\n",
            "55\n",
            "89\n",
            "144\n",
            "233\n",
            "377\n",
            "610\n",
            "987\n",
            "1597\n",
            "2584\n",
            "4181\n",
            "6765\n",
            "10946\n",
            "17711\n",
            "28657\n",
            "46368\n"
          ]
        }
      ]
    },
    {
      "cell_type": "code",
      "source": [
        "#Q5\n",
        "number = int(input(\"Enter a number: \"))\n",
        "reverse,temp = 0, number\n",
        "while temp!= 0:\n",
        "  reverse = reverse*10 + temp%10\n",
        "  temp=temp//10\n",
        "\n",
        "if reverse==number:\n",
        "    print(\"number is palindrom\")\n",
        "else:\n",
        "    print(\"number is not palindrom\")\n",
        "\n",
        "\n"
      ],
      "metadata": {
        "colab": {
          "base_uri": "https://localhost:8080/"
        },
        "id": "U92QxzgnVoIt",
        "outputId": "c410b123-b29a-45f1-9e07-195a76e74c1b"
      },
      "execution_count": null,
      "outputs": [
        {
          "output_type": "stream",
          "name": "stdout",
          "text": [
            "Enter a number: 33\n",
            "number is palindrom\n"
          ]
        }
      ]
    },
    {
      "cell_type": "code",
      "source": [
        "#Q6\n",
        "fn = int(input(\"Enter any number: \"))\n",
        "mn = int(input(\"Enter any number: \"))\n",
        "ln = int(input(\"Enter any number: \"))\n",
        "\n",
        "if fn > mn and fn > ln:\n",
        "  print(fn, \"is greater among\", mn ,\"and\",ln) \n",
        "if mn > fn and mn > ln:\n",
        "  print(mn, \"is greater among\", fn ,\"and\",ln) \n",
        "  if ln > mn and ln > fn:\n",
        "    print(ln, \"is greater among\", fn , \"and\", mn)\n"
      ],
      "metadata": {
        "colab": {
          "base_uri": "https://localhost:8080/"
        },
        "id": "WHhRvX5Y5vMC",
        "outputId": "148bb936-207d-43c7-f21e-c2dfa3884feb"
      },
      "execution_count": null,
      "outputs": [
        {
          "output_type": "stream",
          "name": "stdout",
          "text": [
            "Enter any number: 99\n",
            "Enter any number: 199\n",
            "Enter any number: 100\n",
            "199 is greater among 99 and 100\n"
          ]
        }
      ]
    },
    {
      "cell_type": "code",
      "source": [
        "#Q7\n",
        "number = input(\"Enter any number:\")\n",
        "\n",
        "p = set(number)\n",
        "s = {'1','0'}\n",
        "if s == p or p == {'0'} or p == {'1'}:\n",
        "  print(\"Your given number is binary.\")\n",
        "else:\n",
        "  print(\"Your given number is not binary.\")\n"
      ],
      "metadata": {
        "colab": {
          "base_uri": "https://localhost:8080/"
        },
        "id": "jLnJDqKJ8RKn",
        "outputId": "2100f522-7aaf-48a0-fb73-e27cdb835d65"
      },
      "execution_count": null,
      "outputs": [
        {
          "output_type": "stream",
          "name": "stdout",
          "text": [
            "Enter any number:99\n",
            "Your given number is not binary.\n"
          ]
        }
      ]
    },
    {
      "cell_type": "code",
      "source": [
        "#Q8\n",
        "numbers = int(input(\"Enter quantity of numbers: \"))\n",
        "lst = list()\n",
        "for i in range(0, numbers):\n",
        "  elements = int(input())\n",
        "  lst.append(elements)\n",
        "print(\"\\nThe Average of your given numbers are: \",sum(lst))"
      ],
      "metadata": {
        "colab": {
          "base_uri": "https://localhost:8080/"
        },
        "id": "CkMwCsavlE8f",
        "outputId": "355bd1ed-62f9-4a90-86a5-7fa1552ace1d"
      },
      "execution_count": null,
      "outputs": [
        {
          "output_type": "stream",
          "name": "stdout",
          "text": [
            "Enter quantity of numbers: 5\n",
            "66\n",
            "98\n",
            "89\n",
            "55\n",
            "45\n",
            "\n",
            "The Average of your given numbers are:  353\n"
          ]
        }
      ]
    },
    {
      "cell_type": "code",
      "source": [
        "#Q9\n",
        "x = input(\"Enter value of x: \")\n",
        "y = input(\"Enter value of y: \")\n",
        "\n",
        "print(\"\\nBefore Swapping\")\n",
        "print(\"Value of x:\", x , \"and\" , \"y:\", y)\n",
        "\n",
        "x , y = y , x\n",
        "\n",
        "print(\"\\nAfter Swapping\")\n",
        "print(\"Value of x:\", x , \"and\" , \"y:\", y)\n"
      ],
      "metadata": {
        "colab": {
          "base_uri": "https://localhost:8080/"
        },
        "id": "Di75jr8wAnHb",
        "outputId": "e341be77-5162-4006-8ec5-1657b00b228b"
      },
      "execution_count": null,
      "outputs": [
        {
          "output_type": "stream",
          "name": "stdout",
          "text": [
            "Enter value of x: 100\n",
            "Enter value of y: 200\n",
            "\n",
            "Before Swapping\n",
            "Value of x: 100 and y: 200\n",
            "\n",
            "After Swapping\n",
            "Value of x: 200 and y: 100\n"
          ]
        }
      ]
    },
    {
      "cell_type": "code",
      "source": [
        "#Q10\n",
        "x = input(\"Enter value of x: \")\n",
        "y = input(\"Enter value of y: \")\n",
        "print(\"\\nBefore Swapping\")\n",
        "print(\"Value of x:\", x , \"and\" , \"y:\", y)\n",
        "\n",
        "temp = x\n",
        "x = y\n",
        "y = temp\n",
        "print(\"\\nAfter Swapping\")\n",
        "print(\"Value of x:\", x , \"and\" , \"y:\", temp)\n"
      ],
      "metadata": {
        "colab": {
          "base_uri": "https://localhost:8080/"
        },
        "id": "2QuG6HVHDzjQ",
        "outputId": "622e2549-d9c5-4608-959e-20f14d48ec77"
      },
      "execution_count": null,
      "outputs": [
        {
          "output_type": "stream",
          "name": "stdout",
          "text": [
            "Enter value of x: 13\n",
            "Enter value of y: 6\n",
            "\n",
            "Before Swapping\n",
            "Value of x: 13 and y: 6\n",
            "\n",
            "After Swapping\n",
            "Value of x: 6 and y: 13\n"
          ]
        }
      ]
    },
    {
      "cell_type": "code",
      "source": [
        "#q11\n",
        "numbers = int(input(\"Enter quantity of numbers: \"))\n",
        "lst = list()\n",
        "for i in range(0, numbers):\n",
        "  elements = int(input())\n",
        "  lst.append(elements)\n",
        "print(\"\\nThe Average of your given numbers are: \",sum(lst) / int(numbers))"
      ],
      "metadata": {
        "colab": {
          "base_uri": "https://localhost:8080/"
        },
        "id": "TLih7SFFFpO2",
        "outputId": "f9e50fd9-5409-49a8-c6dd-a5e9282327cd"
      },
      "execution_count": null,
      "outputs": [
        {
          "output_type": "stream",
          "name": "stdout",
          "text": [
            "Enter quantity of numbers: 5\n",
            "6\n",
            "13\n",
            "15\n",
            "26\n",
            "29\n",
            "\n",
            "The Average of your given numbers are:  17.8\n"
          ]
        }
      ]
    },
    {
      "cell_type": "code",
      "source": [
        "#Q12\n",
        "number = int(input(\"Enter a number: \"))\n",
        "factorial = 1\n",
        "if number < 0:\n",
        "   print(\"Sorry, factorial does not exist for negative numbers\")\n",
        "elif number == 0:\n",
        "   print(\"The factorial of 0 is 1\")\n",
        "else:\n",
        "   for i in range(1,number + 1):\n",
        "       factorial = factorial*i\n",
        "   print(\"The factorial of\",number,\"is\",factorial)"
      ],
      "metadata": {
        "id": "uP-ALmG9Lqow",
        "colab": {
          "base_uri": "https://localhost:8080/"
        },
        "outputId": "7011b270-b114-4869-a635-17728f272450"
      },
      "execution_count": null,
      "outputs": [
        {
          "output_type": "stream",
          "name": "stdout",
          "text": [
            "Enter a number: 10\n",
            "The factorial of 10 is 3628800\n"
          ]
        }
      ]
    },
    {
      "cell_type": "code",
      "source": [
        "#Q13\n",
        "number = int(input(\"Enter a number: \"))\n",
        "factorial = 1\n",
        "if number < 0:\n",
        "   print(\"Sorry, factorial does not exist for negative numbers\")\n",
        "elif number == 0:\n",
        "   print(\"The factorial of 0 is 1\")\n",
        "else:\n",
        "   for i in range(1,number + 1):\n",
        "       factorial = factorial*i\n",
        "   print(\"The factorial of\",number,\"is\",factorial)"
      ],
      "metadata": {
        "colab": {
          "base_uri": "https://localhost:8080/"
        },
        "id": "KgtJo11BI7bz",
        "outputId": "20266c13-d5a3-4779-dd04-cad6f4975288"
      },
      "execution_count": null,
      "outputs": [
        {
          "output_type": "stream",
          "name": "stdout",
          "text": [
            "Enter a number: 6\n",
            "The factorial of 6 is 720\n"
          ]
        }
      ]
    },
    {
      "cell_type": "code",
      "source": [
        "#Q14\n",
        "user_input = int(input(\"Enter a number to check even or odd: \"))\n",
        "\n",
        "if(user_input %2 == 0):\n",
        "  print(user_input, \"is a even number.\")\n",
        "elif(user_input %2 != 0):\n",
        "  print(user_input, \"is a odd number.\")\n",
        "else:\n",
        "  print(\"Please, Enter Correct Value.\")"
      ],
      "metadata": {
        "colab": {
          "base_uri": "https://localhost:8080/"
        },
        "id": "onAnplDvL_Kw",
        "outputId": "bb5ff3a4-1bf5-48f5-af67-fb88957eefb9"
      },
      "execution_count": null,
      "outputs": [
        {
          "output_type": "stream",
          "name": "stdout",
          "text": [
            "Enter a number to check even or odd: 25\n",
            "25 is a odd number.\n"
          ]
        }
      ]
    },
    {
      "cell_type": "code",
      "source": [
        "#Q15\n",
        "number=int(input(\"Enter range of prime numbers: \"))\n",
        "print(\"Prime numbers:\",end=' ')\n",
        "for n in range(1,number):\n",
        "    for i in range(2,n):\n",
        "        if(n%i==0):\n",
        "            break\n",
        "    else:\n",
        "        print(n,end=' ')   "
      ],
      "metadata": {
        "id": "DINQDN4SfH_l",
        "colab": {
          "base_uri": "https://localhost:8080/"
        },
        "outputId": "160f841e-7972-4bfe-dd72-64e2ae08befb"
      },
      "execution_count": null,
      "outputs": [
        {
          "output_type": "stream",
          "name": "stdout",
          "text": [
            "Enter range of prime numbers: 99\n",
            "Prime numbers: 1 2 3 5 7 11 13 17 19 23 29 31 37 41 43 47 53 59 61 67 71 73 79 83 89 97 "
          ]
        }
      ]
    },
    {
      "cell_type": "code",
      "source": [
        "#Q16\n",
        "lower_value = int(input (\"Please, Enter the Lowest Range Value: \"))  \n",
        "upper_value = int(input (\"Please, Enter the Upper Range Value: \"))  \n",
        "print (\"The Prime Numbers in the range are: \") \n",
        "for number in range (lower_value, upper_value + 1):  \n",
        "    if number > 1:\n",
        "        for i in range (2, number):  \n",
        "            if (number % i) == 0:  \n",
        "                break  \n",
        "        else:  \n",
        "            print (number)  "
      ],
      "metadata": {
        "colab": {
          "base_uri": "https://localhost:8080/"
        },
        "id": "CC_BVO-aQz4q",
        "outputId": "4fa45696-0a81-4d50-ab91-92419be62f17"
      },
      "execution_count": null,
      "outputs": [
        {
          "output_type": "stream",
          "name": "stdout",
          "text": [
            "Please, Enter the Lowest Range Value: 13\n",
            "Please, Enter the Upper Range Value: 25\n",
            "The Prime Numbers in the range are: \n",
            "13\n",
            "17\n",
            "19\n",
            "23\n"
          ]
        }
      ]
    },
    {
      "cell_type": "code",
      "source": [
        "#Q17\n",
        "fn = int(input(\"Enter any number: \"))\n",
        "mn = int(input(\"Enter any number: \"))\n",
        "ln = int(input(\"Enter any number: \"))\n",
        "if fn < mn and fn < ln:\n",
        "  print(fn, \"is smallest among\", mn ,\"and\",ln) \n",
        "if mn < fn and mn < ln:\n",
        "  print(mn, \"is smallest among\", fn ,\"and\",ln) \n",
        "  if ln < mn and ln < fn:\n",
        "    print(ln,\"is smaller among\", fn , \"and\", mn)\n",
        "  \n"
      ],
      "metadata": {
        "colab": {
          "base_uri": "https://localhost:8080/"
        },
        "id": "rXjKwMJWOYE1",
        "outputId": "d61ea502-a460-432c-abf3-a17f04aaf588"
      },
      "execution_count": null,
      "outputs": [
        {
          "output_type": "stream",
          "name": "stdout",
          "text": [
            "Enter any number: 50\n",
            "Enter any number: 100\n",
            "Enter any number: 150\n",
            "50 is smallest among 100 and 150\n"
          ]
        }
      ]
    },
    {
      "cell_type": "code",
      "source": [
        "#Q18\n",
        "import math\n",
        "base = int(input(\"Enter the value for base: \"))\n",
        "exponent = int(input(\"Enter the value for exponent: \"))\n",
        "print(base ,\"to power\" , exponent , \"is\" ,pow(base,exponent))\n"
      ],
      "metadata": {
        "colab": {
          "base_uri": "https://localhost:8080/"
        },
        "id": "WRSz8xhJPOr9",
        "outputId": "12a84c8f-7d7c-4ae0-b46b-522e77dbafa3"
      },
      "execution_count": null,
      "outputs": [
        {
          "output_type": "stream",
          "name": "stdout",
          "text": [
            "Enter the value for base: 5\n",
            "Enter the value for exponent: 32\n",
            "5 to power 32 is 23283064365386962890625\n"
          ]
        }
      ]
    },
    {
      "cell_type": "code",
      "source": [
        "#Q19\n",
        "import math \n",
        "\n",
        "number = int(input(\"Enter the value for base: \"))\n",
        "print(\"Square to\" , number , \"is\" , pow(number,2))\n",
        "\n",
        "\n"
      ],
      "metadata": {
        "colab": {
          "base_uri": "https://localhost:8080/"
        },
        "id": "1s0l_g5qRppi",
        "outputId": "b9c82a84-461b-4806-982e-ac58c5203765"
      },
      "execution_count": null,
      "outputs": [
        {
          "output_type": "stream",
          "name": "stdout",
          "text": [
            "Enter the value for base: 6\n",
            "Square to 6 is 36\n"
          ]
        }
      ]
    },
    {
      "cell_type": "code",
      "source": [
        "#Q20\n",
        "import math \n",
        "number = int(input(\"Enter the value for base: \"))\n",
        "print(\"Cube to\" , number , \"is\" , pow(number,3))\n"
      ],
      "metadata": {
        "colab": {
          "base_uri": "https://localhost:8080/"
        },
        "id": "B3X17klhjbno",
        "outputId": "0c1ad208-3183-4d35-8318-a807bdd45a10"
      },
      "execution_count": null,
      "outputs": [
        {
          "output_type": "stream",
          "name": "stdout",
          "text": [
            "Enter the value for base: 6\n",
            "Cube to 6 is 216\n"
          ]
        }
      ]
    },
    {
      "cell_type": "code",
      "source": [
        "#Q21\n",
        "import math\n",
        "number= int(input(\"Enter the value for \"))\n",
        "print(\"Square root to\",number,\"is\" ,int(math.sqrt(number)))\n"
      ],
      "metadata": {
        "colab": {
          "base_uri": "https://localhost:8080/"
        },
        "id": "Y06X9qeHKtEy",
        "outputId": "53dbed4c-3d74-4935-a147-b9d97625bb53"
      },
      "execution_count": null,
      "outputs": [
        {
          "output_type": "stream",
          "name": "stdout",
          "text": [
            "Enter the value for 465\n",
            "Square root to 465 is 21\n"
          ]
        }
      ]
    },
    {
      "cell_type": "code",
      "source": [
        "#Q22\n",
        "def decimalToBinary(n):\n",
        "    return bin(n).replace(\"0b\", \"\")\n",
        "\n",
        "number = int(input(\"Enter decimal number: \"))\n",
        "print(\"Binary to\", number , \"is\", decimalToBinary(number))\n",
        "\n"
      ],
      "metadata": {
        "id": "EFwrFDX0laem"
      },
      "execution_count": null,
      "outputs": []
    },
    {
      "cell_type": "code",
      "source": [
        "#Q23\n",
        "number = int(input(\"Enter decimal number: \"))\n",
        "print(\"Octal to\", number , \"is\", oct(number))\n"
      ],
      "metadata": {
        "colab": {
          "base_uri": "https://localhost:8080/"
        },
        "id": "ZAlSZUW5nc4l",
        "outputId": "5b46dc8d-86b9-47e3-d25d-59871c9ef5f1"
      },
      "execution_count": null,
      "outputs": [
        {
          "output_type": "stream",
          "name": "stdout",
          "text": [
            "Enter decimal number: 35\n",
            "Octal to 35 is 0o43\n"
          ]
        }
      ]
    },
    {
      "cell_type": "code",
      "source": [
        "#Q24\n",
        "year = int(input(\"Enter a year: \"))\n",
        "\n",
        "if((year % 400 == 0) or (year % 100 != 0) and  (year % 4 == 0)):   \n",
        "    print(\"Year\", year ,\"is a leap Year\");  \n",
        "  # Else it is not a leap year  \n",
        "else:  \n",
        "    print (\"Year\", year ,\"is not a leap Year\")  "
      ],
      "metadata": {
        "colab": {
          "base_uri": "https://localhost:8080/"
        },
        "id": "f5-X72v9oPr_",
        "outputId": "f2058fed-17a9-495d-f424-75d043ec6f9e"
      },
      "execution_count": null,
      "outputs": [
        {
          "output_type": "stream",
          "name": "stdout",
          "text": [
            "Enter a year: 2003\n",
            "Year 2003 is not a leap Year\n"
          ]
        }
      ]
    },
    {
      "cell_type": "code",
      "source": [
        "#Q25\n",
        "temp = float(input(\"Enter temperature value in celcius: \"))\n",
        "fahrenheit = (temp * 1.8) + 32\n",
        "print(temp, \"celcius is equivalent to\", fahrenheit, \"fahrenheit.\")\n"
      ],
      "metadata": {
        "colab": {
          "base_uri": "https://localhost:8080/"
        },
        "id": "ce8hRq16pYk6",
        "outputId": "22f9cdcf-884f-45b2-8c33-8559e4f6ba1a"
      },
      "execution_count": null,
      "outputs": [
        {
          "output_type": "stream",
          "name": "stdout",
          "text": [
            "Enter temperature value in celcius: 35\n",
            "35.0 celcius is equivalent to 95.0 fahrenheit.\n"
          ]
        }
      ]
    },
    {
      "cell_type": "code",
      "source": [
        "#Q26\n",
        "temp = float(input(\"Enter temperature value in fahrenheit: \"))\n",
        "celsius = (temp - 32) * 5/9\n",
        "print(temp, \"fahrenheit is equivalent to\", celsius, \"celsius.\")\n"
      ],
      "metadata": {
        "colab": {
          "base_uri": "https://localhost:8080/"
        },
        "id": "dt0Gxq63qoPl",
        "outputId": "228f465b-3012-42ad-dba1-d7a4a1ec3f9e"
      },
      "execution_count": null,
      "outputs": [
        {
          "output_type": "stream",
          "name": "stdout",
          "text": [
            "Enter temperature value in fahrenheit: 99.0\n",
            "99.0 fahrenheit is equivalent to 37.22222222222222 celsius.\n"
          ]
        }
      ]
    }
  ]
}